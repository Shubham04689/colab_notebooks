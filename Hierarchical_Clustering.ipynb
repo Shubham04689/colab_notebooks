{
  "nbformat": 4,
  "nbformat_minor": 0,
  "metadata": {
    "colab": {
      "private_outputs": true,
      "provenance": [],
      "include_colab_link": true
    },
    "kernelspec": {
      "name": "python3",
      "display_name": "Python 3"
    },
    "language_info": {
      "name": "python"
    }
  },
  "cells": [
    {
      "cell_type": "markdown",
      "metadata": {
        "id": "view-in-github",
        "colab_type": "text"
      },
      "source": [
        "<a href=\"https://colab.research.google.com/github/Shubham04689/colab_notebooks/blob/main/Hierarchical_Clustering.ipynb\" target=\"_parent\"><img src=\"https://colab.research.google.com/assets/colab-badge.svg\" alt=\"Open In Colab\"/></a>"
      ]
    },
    {
      "cell_type": "markdown",
      "metadata": {
        "id": "K9jTxMq3ZZD5"
      },
      "source": [
        "At the end of the experiment, you will be able to:\n",
        "\n",
        "*  find groups or clusters using Hierarchical Clustering Algorithm\n",
        "*  visualize the clusters using Dendrogram\n"
      ]
    },
    {
      "cell_type": "markdown",
      "metadata": {
        "id": "Nh70dVHx0G_B"
      },
      "source": [
        "## Dataset"
      ]
    },
    {
      "cell_type": "markdown",
      "metadata": {
        "id": "0AUjpyII06yk"
      },
      "source": [
        "### Description"
      ]
    },
    {
      "cell_type": "markdown",
      "metadata": {
        "id": "y-GMJTRb0Iyy"
      },
      "source": [
        "The dataset consists of the below 7 columns,\n",
        "\n",
        "- **species:** penguin species (Chinstrap, Adélie, or Gentoo)\n",
        "- **culmen length & depth:** The culmen is the upper ridge of a bird's beak\n",
        "- **flipper_length_mm:** flipper length\n",
        "- **body_mass_g:** body mass\n",
        "- **island:** island name (Dream, Torgersen, or Biscoe)\n",
        "- **sex:** penguin sex"
      ]
    },
    {
      "cell_type": "markdown",
      "metadata": {
        "id": "oikK2FFsiChF"
      },
      "source": [
        "## AI/ML Technique"
      ]
    },
    {
      "cell_type": "markdown",
      "metadata": {
        "id": "3iTc747QiDhl"
      },
      "source": [
        "### Hierarchical Clustering\n",
        "\n",
        "It is an algorithm that builds hierarchy of clusters. This algorithm starts with all the data points assigned to a cluster of their own. Then two nearest clusters are merged into the same cluster. In the end, this algorithm terminates when there is only a single cluster left.\n",
        "\n",
        "Why Hierarchical Clustering is used over K-means Clustering Algorithm? K-means works well when the shape of clusters are hyper-spherical  (or circular in 2 dimensions). If there are general clusters occurring in the dataset which are non-spherical then probably K-means is not a good choice.\n",
        "\n",
        "K-means starts with random choice of cluster centers and it may lead to different clustering results and different runs of algorithm is required. Thus, the results may not be repeatable and lack of consistency with hierarchical clustering, you will definitely get the same clustering results.\n",
        "\n",
        "K-means require prior knowledge of K (number of clusters), whereas in hierarchical clustering we can stop at any level (clusters) we wish.\n",
        "\n",
        "\n",
        "Hierarchical clustering is of two types:\n",
        "\n",
        "**Agglomerative**: This is a \"bottom up\" approach: each observation starts in its own cluster, and pairs of clusters are merged as one moves up the hierarchy.\n",
        "\n",
        "**Divisive**: This is a \"top down\" approach: all observations start in one cluster, and splits are performed recursively as one moves down the hierarchy.\n",
        "\n",
        "In this experiment we will use Agglomerative Clustering.\n",
        "\n",
        "A dendrogram is a tree like structure that shows the hierarchical relationship between objects. It is most commonly created as an output from hierarchical clustering. The main use of a dendrogram is to work out the best way to allocate objects to clusters.\n",
        "\n",
        "\n",
        "Hierarchical clustering gives the deep insight of each step of converging different clusters and create dendrogram which helps you figure out which clusters combination makes sense and where you want to stop."
      ]
    },
    {
      "cell_type": "markdown",
      "metadata": {
        "id": "Y9pFXqtfbcxG"
      },
      "source": [
        "## Import Required Packages"
      ]
    },
    {
      "cell_type": "code",
      "source": [
        "import requests\n",
        "\n",
        "def download_file(url, filename):\n",
        "  \"\"\"Downloads a file from a given URL.\n",
        "\n",
        "  Args:\n",
        "    url: The URL of the file to download.\n",
        "    filename: The name of the file to save the downloaded data to.\n",
        "  \"\"\"\n",
        "  response = requests.get(url, stream=True)\n",
        "  if response.status_code == 200:\n",
        "    with open(filename, 'wb') as f:\n",
        "      for chunk in response.iter_content(chunk_size=1024):\n",
        "        if chunk:\n",
        "          f.write(chunk)\n",
        "    print(f\"Downloaded {filename} successfully.\")\n",
        "  else:\n",
        "    print(f\"Failed to download {url}. Status code: {response.status_code}\")\n",
        "\n",
        "# Example usage:\n",
        "url = \"https://cdn.iiith.talentsprint.com/aiml/Experiment_related_data/Penguin.csv\"\n",
        "filename = \"Penguin.csv\"\n",
        "download_file(url, filename)"
      ],
      "metadata": {
        "id": "KeS0hKeGAQxp"
      },
      "execution_count": null,
      "outputs": []
    },
    {
      "cell_type": "code",
      "metadata": {
        "id": "tolBi2-lJHkW"
      },
      "source": [
        "import numpy as np\n",
        "import pandas as pd\n",
        "import matplotlib.pyplot as plt\n",
        "from sklearn import preprocessing\n",
        "from sklearn.cluster import AgglomerativeClustering\n",
        "from scipy.cluster.hierarchy import dendrogram, linkage"
      ],
      "execution_count": null,
      "outputs": []
    },
    {
      "cell_type": "markdown",
      "metadata": {
        "id": "WW2MIcyYbp3R"
      },
      "source": [
        "## Load the data"
      ]
    },
    {
      "cell_type": "code",
      "metadata": {
        "id": "ru1Mcn-2mXp1"
      },
      "source": [
        "df = pd.read_csv('Penguin.csv')\n",
        "df.head()"
      ],
      "execution_count": null,
      "outputs": []
    },
    {
      "cell_type": "code",
      "metadata": {
        "id": "K3nT_Payma9N"
      },
      "source": [
        "# Count NaN values in each column of the dataframe\n",
        "df.isna().sum()"
      ],
      "execution_count": null,
      "outputs": []
    },
    {
      "cell_type": "code",
      "metadata": {
        "id": "s68i8iLUTHa9"
      },
      "source": [
        "# Drop the records where sex column has NaN values\n",
        "df.dropna(subset = ['sex'], inplace = True)\n",
        "\n",
        "# Print the unique() elements from the sex column after dropping\n",
        "print(\"Unique values after dropping NA values : \",df.sex.unique())"
      ],
      "execution_count": null,
      "outputs": []
    },
    {
      "cell_type": "markdown",
      "metadata": {
        "id": "8R6FqRagSyLV"
      },
      "source": [
        "## Convert categorical values to numerical"
      ]
    },
    {
      "cell_type": "code",
      "metadata": {
        "id": "frwSlj1qM6ec"
      },
      "source": [
        "LE = preprocessing.LabelEncoder()"
      ],
      "execution_count": null,
      "outputs": []
    },
    {
      "cell_type": "code",
      "metadata": {
        "id": "fAuaw3YYlsAI"
      },
      "source": [
        "df['island'] = LE.fit_transform(df['island'])\n",
        "df['sex'] = LE.fit_transform(df['sex'])\n",
        "df['species'] = LE.fit_transform(df['species'])\n",
        "df.head()"
      ],
      "execution_count": null,
      "outputs": []
    },
    {
      "cell_type": "markdown",
      "metadata": {
        "id": "P4PERpLOJdjU"
      },
      "source": [
        "## Store the data and labels"
      ]
    },
    {
      "cell_type": "code",
      "metadata": {
        "id": "JaDc0DZZmt7K"
      },
      "source": [
        "X = df.drop(['species'], axis=1)\n",
        "y = df['species']"
      ],
      "execution_count": null,
      "outputs": []
    },
    {
      "cell_type": "code",
      "metadata": {
        "id": "FZtf_H6TECuV"
      },
      "source": [
        "# Selecting first 100 rows and 2 columns from the data\n",
        "X1 = X.iloc[:100,1:3].values"
      ],
      "execution_count": null,
      "outputs": []
    },
    {
      "cell_type": "code",
      "metadata": {
        "id": "EIHl2ndEG6G_"
      },
      "source": [
        "X1.shape"
      ],
      "execution_count": null,
      "outputs": []
    },
    {
      "cell_type": "markdown",
      "metadata": {
        "id": "jr69wQrVOuXI"
      },
      "source": [
        "## Apply Agglomerative Clustering\n",
        "\n",
        "**Note:** Refer to following [AgglomerativeClustering](https://scikit-learn.org/stable/modules/generated/sklearn.cluster.AgglomerativeClustering.html)"
      ]
    },
    {
      "cell_type": "code",
      "metadata": {
        "id": "JIwya8pI_QXy"
      },
      "source": [
        "# Call the Agglomerative clustering function from sklearn library\n",
        "# n_clusters : The number of clusters to generate\n",
        "clustering = AgglomerativeClustering(n_clusters = 3)\n",
        "\n",
        "# Fit Hierarchical Clustering to the data\n",
        "Y_preds = clustering.fit_predict(X1)\n",
        "\n",
        "# Plot the results\n",
        "plt.figure(figsize = (8,5))\n",
        "plt.scatter(X1[Y_preds == 0 , 0] , X1[Y_preds == 0 , 1] , c = 'red')\n",
        "plt.scatter(X1[Y_preds == 1 , 0] , X1[Y_preds == 1 , 1] , c = 'blue')\n",
        "plt.scatter(X1[Y_preds == 2 , 0] , X1[Y_preds == 2 , 1] , c = 'green')\n",
        "plt.show()"
      ],
      "execution_count": null,
      "outputs": []
    },
    {
      "cell_type": "markdown",
      "metadata": {
        "id": "Now0EvcXOL66"
      },
      "source": [
        "## Visualize the dendogram\n",
        "\n",
        "**Note:** Refer to [scipy.cluster.hierarchy.dendrogram](https://docs.scipy.org/doc/scipy/reference/generated/scipy.cluster.hierarchy.dendrogram.html)"
      ]
    },
    {
      "cell_type": "code",
      "metadata": {
        "id": "ewNlU67FuAI5"
      },
      "source": [
        "# In 'linkage' ward method minimizes the variance between the clusters being merged\n",
        "clusters = linkage(X1, 'ward')"
      ],
      "execution_count": null,
      "outputs": []
    },
    {
      "cell_type": "code",
      "metadata": {
        "id": "qHgrlZxzugFG"
      },
      "source": [
        "plt.figure(figsize=(20,20))\n",
        "dendrogram(clusters)\n",
        "plt.show()"
      ],
      "execution_count": null,
      "outputs": []
    }
  ]
}