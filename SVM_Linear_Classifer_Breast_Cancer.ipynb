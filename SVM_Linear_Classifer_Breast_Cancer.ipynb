{
  "nbformat": 4,
  "nbformat_minor": 0,
  "metadata": {
    "colab": {
      "private_outputs": true,
      "provenance": [],
      "include_colab_link": true
    },
    "kernelspec": {
      "name": "python3",
      "display_name": "Python 3"
    }
  },
  "cells": [
    {
      "cell_type": "markdown",
      "metadata": {
        "id": "view-in-github",
        "colab_type": "text"
      },
      "source": [
        "<a href=\"https://colab.research.google.com/github/Shubham04689/colab_notebooks/blob/main/SVM_Linear_Classifer_Breast_Cancer.ipynb\" target=\"_parent\"><img src=\"https://colab.research.google.com/assets/colab-badge.svg\" alt=\"Open In Colab\"/></a>"
      ]
    },
    {
      "cell_type": "markdown",
      "metadata": {
        "id": "x9wLqIUIyML-"
      },
      "source": [
        "### Learning Objective"
      ]
    },
    {
      "cell_type": "markdown",
      "metadata": {
        "id": "lD86AWh0yHG4"
      },
      "source": [
        "At the end of the experiment, you will be able to :\n",
        "\n",
        "* Perform SVM Linear Classifier"
      ]
    },
    {
      "cell_type": "markdown",
      "metadata": {
        "id": "R-H31RhK1lot"
      },
      "source": [
        "### Dataset"
      ]
    },
    {
      "cell_type": "markdown",
      "metadata": {
        "id": "NH1Js1cUyWfo"
      },
      "source": [
        "#### History\n",
        "\n",
        "Breast cancer (BC) is one of the most common cancers among women in the world today. Currently, the average risk of a woman in the United States developing breast cancer sometime in her life is about 13%, which means there is a 1 in 8 chance she will develop breast cancer!. An early diagnosis of BC can greatly improve the prognosis and chance of survival for patients. Thus an accurate identification of malignant tumors is of paramount importance."
      ]
    },
    {
      "cell_type": "markdown",
      "metadata": {
        "id": "P677A-Xb0ONT"
      },
      "source": [
        "#### Description\n",
        "\n",
        "The Breast cancer Data Set consists of 569 data instances. This is a binary classification problem which consists of 2 types of cancer classes. The tumor is classified as **benign (1)** or **malignant (0)** based on its geometry and shape.\n",
        "\n",
        "The features of the dataset include:\n",
        "\n",
        "* ID number\n",
        "* Diagnosis (M = malignant, B = benign)\n",
        "\n",
        "Ten real-valued features are computed for each cell nucleus:\n",
        "\n",
        "* radius (mean of distances from center to points on the perimeter)\n",
        "* texture (standard deviation of gray-scale values)\n",
        "* perimeter\n",
        "* area\n",
        "* smoothness (local variation in radius lengths)\n",
        "* compactness (perimeter^2 / area - 1.0)\n",
        "* concavity (severity of concave portions of the contour)\n",
        "* concave points (number of concave portions of the contour)\n",
        "* symmetry\n",
        "* fractal dimension (\"coastline approximation\" - 1)\n",
        "\n",
        "The mean, standard error and \"worst\" or largest (mean of the three\n",
        "largest values) of these features were computed for each image. For instance, field 3 is Mean Radius, field\n",
        "13 is Radius SE, field 23 is Worst Radius.\n",
        "\n",
        "Class distribution: 357 benign, 212 malignant\n",
        "\n"
      ]
    },
    {
      "cell_type": "markdown",
      "metadata": {
        "id": "ljGsDKkF3rHT"
      },
      "source": [
        "### Import required packages"
      ]
    },
    {
      "cell_type": "code",
      "metadata": {
        "id": "0mO_21Mp3lO7"
      },
      "source": [
        "import pandas as pd\n",
        "\n",
        "\n",
        "# Download the dataset from the provided link\n",
        "!wget https://cdn.iiith.talentsprint.com/aiml/Experiment_related_data/Breast_Cancer.csv\n",
        "\n",
        "# Load the dataset into a pandas DataFrame\n",
        "iris_df = pd.read_csv('Breast_Cancer.csv')\n",
        "\n",
        "# Print the first few rows of the DataFrame to check if the data loaded correctly\n",
        "print(iris_df.head())"
      ],
      "execution_count": null,
      "outputs": []
    },
    {
      "cell_type": "markdown",
      "metadata": {
        "id": "vAhVr64D4Rf8"
      },
      "source": [
        "### Load the data"
      ]
    },
    {
      "cell_type": "code",
      "metadata": {
        "id": "jHWkrHDX4Bml"
      },
      "source": [
        "breast_cancer = pd.read_csv(\"Breast_Cancer.csv\")\n",
        "breast_cancer.head()"
      ],
      "execution_count": null,
      "outputs": []
    },
    {
      "cell_type": "code",
      "metadata": {
        "id": "VP7TgIm4p6N8"
      },
      "source": [
        "breast_cancer['diagnosis'] = breast_cancer['diagnosis'].replace(['M','B'],[0,1])\n",
        "# or\n",
        "# breast_cancer = breast_cancer.replace('M', 0)\n",
        "# breast_cancer = breast_cancer.replace('B', 1)"
      ],
      "execution_count": null,
      "outputs": []
    },
    {
      "cell_type": "code",
      "metadata": {
        "id": "1ZV0zxtx4G1E"
      },
      "source": [
        "features = breast_cancer.drop(['diagnosis', 'id'], axis=1) # id is unnecessary columns so we can drop it\n",
        "labels = breast_cancer.diagnosis"
      ],
      "execution_count": null,
      "outputs": []
    },
    {
      "cell_type": "code",
      "source": [
        "print(features.head())"
      ],
      "metadata": {
        "id": "FZErGivvb_Bf"
      },
      "execution_count": null,
      "outputs": []
    },
    {
      "cell_type": "code",
      "metadata": {
        "id": "_NTXCKN-5TgV"
      },
      "source": [
        "from sklearn.model_selection import train_test_split"
      ],
      "execution_count": null,
      "outputs": []
    },
    {
      "cell_type": "code",
      "metadata": {
        "id": "wcnh-liN5i1z"
      },
      "source": [
        "# Perform train test split for the given data\n",
        "X_train, X_test, y_train, y_test = train_test_split(features, labels, test_size = 0.3)"
      ],
      "execution_count": null,
      "outputs": []
    },
    {
      "cell_type": "code",
      "metadata": {
        "id": "AhlzwtcB5yzt"
      },
      "source": [
        "from sklearn.svm import SVC"
      ],
      "execution_count": null,
      "outputs": []
    },
    {
      "cell_type": "code",
      "metadata": {
        "id": "bSN2xLn46PN0"
      },
      "source": [
        "# Create a svm Classifier\n",
        "clf = SVC(kernel='linear')\n",
        "\n",
        "# Fitting the model\n",
        "clf.fit(X_train, y_train)\n",
        "\n",
        "# Predicting on the test dataset\n",
        "y_pred = clf.predict(X_test)"
      ],
      "execution_count": null,
      "outputs": []
    },
    {
      "cell_type": "code",
      "metadata": {
        "id": "OymB342xa68l"
      },
      "source": [
        "from sklearn import metrics\n",
        "metrics.accuracy_score(y_test, y_pred)"
      ],
      "execution_count": null,
      "outputs": []
    },
    {
      "cell_type": "code",
      "source": [
        "from sklearn.metrics import classification_report, confusion_matrix\n",
        "\n",
        "# Generate a classification report\n",
        "print(classification_report(y_test, y_pred))\n",
        "\n",
        "# Generate a confusion matrix\n",
        "print(confusion_matrix(y_test, y_pred))\n",
        "\n",
        "# Calculate precision, recall, and F1-score manually if needed\n",
        "from sklearn.metrics import precision_score, recall_score, f1_score\n",
        "\n",
        "precision = precision_score(y_test, y_pred)\n",
        "recall = recall_score(y_test, y_pred)\n",
        "f1 = f1_score(y_test, y_pred)\n",
        "\n",
        "print(f\"Precision: {precision:.4f}\")\n",
        "print(f\"Recall: {recall:.4f}\")\n",
        "print(f\"F1-score: {f1:.4f}\")"
      ],
      "metadata": {
        "id": "OXbURxl8exaa"
      },
      "execution_count": null,
      "outputs": []
    }
  ]
}